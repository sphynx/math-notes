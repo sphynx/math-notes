{
 "cells": [
  {
   "cell_type": "markdown",
   "metadata": {},
   "source": [
    "## How to build a tuple\n",
    "\n",
    "Concept of order is ubiquitous in mathematics and computer science, it permeates even the basic definitions. For example: what is a function from $X$ to $Y$? In set-theoretic terms it is some kind of relation between two sets (that has only one \"value\" for each \"argument\"). Then, what is a relation between two sets $X$ and $Y$? It is a subset of their Cartesian product $X \\times Y$ and Cartesian product of two sets is defined as:\n",
    "\n",
    "\\begin{equation}\n",
    "X \\times Y \\equiv \\{\\langle x, y \\rangle: x \\in X, y \\in Y\\}\n",
    "\\end{equation}\n",
    "\n",
    "In words: it is a set of all ordered pairs with the first element taken from $X$ and the second - from $Y$. \n",
    "Here, we encounter for the first time the concept of an *ordered pair* or, as it is sometimes known, *a tuple*. I'll use those terms interchangeably. Also I'll denote tuples with angle brackets: $\\langle x, y \\rangle$ as it is quite common in set theory books.\n",
    "\n",
    "Note that many important mathematical objects like relations or functions are (or can be) asymmetric, e.g. a function is defined *from* some set X *to* another set Y, those sets play different roles. The same goes about relations. Consider relation \"to be parent of\". Then \"Clara is a parent of Jack\" is not the same as \"Jack is a parent of Clara\". When we express relations or functions in terms of sets, we need a way to express this asymmetricity, we need ordered pairs."
   ]
  },
  {
   "cell_type": "markdown",
   "metadata": {},
   "source": [
    "Now, we have to ask: what is a tuple? How do we define one in terms of set theory? "
   ]
  },
  {
   "cell_type": "markdown",
   "metadata": {},
   "source": [
    "If we have a set, say $\\{1, 2\\}$, it does not have order. What we mean by this is that $\\{1, 2\\} = \\{2, 1\\}$, it does not matter in which order we enumerate set elements. The set does not have any structure and is fully defined just by its elements. But now we are looking for an encoding which would represent ordered pairs as sets which would be different for $\\langle 1, 2 \\rangle$ and $\\langle 2, 1\\rangle$.\n",
    "\n",
    "This encoding $\\langle x,y \\rangle$ has to uniquely identify both elements $x$ and $y$ themselves and also their order. This is a succinctly described by the following property which is called _characteristic property_ of ordered pairs, since it captures their essence:\n",
    "\n",
    "\\begin{equation}\n",
    "\\langle x,y \\rangle = \\langle u,v \\rangle \\iff x = u \\land y = v \n",
    "\\end{equation}"
   ]
  },
  {
   "cell_type": "markdown",
   "metadata": {},
   "source": [
    "In words: two encodings of ordered pairs are the same if and only if first elements are the same and second elements are the same."
   ]
  },
  {
   "cell_type": "markdown",
   "metadata": {},
   "source": [
    "To understand the property better let's start with an encoding which does not really satisfy it:"
   ]
  },
  {
   "cell_type": "markdown",
   "metadata": {},
   "source": [
    "$$\n",
    "\\langle x,y \\rangle = \\{x, \\{y\\}\\}\n",
    "$$"
   ]
  },
  {
   "cell_type": "markdown",
   "metadata": {},
   "source": [
    "It may look as it can do the job, but in fact we can find two different pairs which would be encoded to the same set:\n",
    "\n",
    "\\begin{array}{lll}\n",
    " \\langle \\{\\{\\emptyset\\}\\}, \\emptyset \\rangle &= \\{ \\{\\{\\emptyset\\}\\}, \\{\\emptyset\\} \\} \\\\\n",
    " \\langle \\{\\emptyset\\}, \\{\\emptyset\\} \\rangle &= \\{ \\{\\emptyset\\}, \\{\\{\\emptyset\\}\\} \\} &= \\{ \\{\\{\\emptyset\\}\\}, \\{\\emptyset\\} \\} \n",
    "\\end{array}"
   ]
  },
  {
   "cell_type": "markdown",
   "metadata": {},
   "source": [
    "A better idea which actually works is to proceed as follows:\n",
    "$$\n",
    "\\langle x,y \\rangle = \\{\\{x\\}, \\{x, y\\}\\}\n",
    "$$"
   ]
  },
  {
   "cell_type": "markdown",
   "metadata": {},
   "source": [
    "The intuition as to how to arrive to this encoding is as follows: since we want to \"visit\" set elements in order, we can keep track of elements which we have seen on every step. On the first step we've just seen $x$, so we have $\\{x\\}$ element, on the second step we've seen both $x$ and $y$, so we have $\\{x, y\\}$. Combining those two we get our $\\{\\{x\\}, \\{x, y\\}\\}$ encoding."
   ]
  },
  {
   "cell_type": "markdown",
   "metadata": {},
   "source": [
    "This definition has been given by Polish mathematician Kazimierz Kuratowski in 1921. \n",
    "\n",
    "In order to show that Kuratowski encoding is a valid one, we need to prove that it satisfies the chracteristic property. It is a slightly laborious proof, so I only give you the sketch of it. In one direction it is trivial, i.e. to show that $x = u \\land y = v \\implies \\langle x,y \\rangle = \\langle u,v \\rangle$, we just build those sets-encodings and directly see that they have the same elements and thus are equal. \n",
    "\n",
    "The opposite direction is more interesting, we need to show that: \n",
    "\n",
    "$$\n",
    "\\langle x,y \\rangle = \\langle u,v \\rangle \\implies x = u \\land y = v\n",
    "$$ \n",
    "\n",
    "Substituting the definition: \n",
    "\n",
    "$$ \n",
    "\\{\\{x\\}, \\{x, y\\}\\} = \\{\\{u\\}, \\{u, v\\}\\} \\implies x = u \\land y = v\n",
    "$$ \n",
    "\n",
    "Now we'll have to examine possible combinations of elements which are supposed to be equal. Here, of great help would be the fact that we have $\\{x, y\\}$ together in one of the encoding elements, which would allow us to put more restrictions on the elements and finally derive that, necessarily, $x = u$ and $y = v$. "
   ]
  },
  {
   "cell_type": "markdown",
   "metadata": {},
   "source": [
    "So, Kuratowski encoding works well, is it the only one satisfying the property? It turns out that no, there are others. The first one, given by Norbert Wiener in 1914 was as follows:\n",
    "\n",
    "$$\n",
    "\\langle x,y \\rangle_{wiener} = \\{\\{\\{x\\}, \\emptyset\\}, \\{\\{y\\}\\}\\}\n",
    "$$\n",
    "\n",
    "As you can see it's not as elegant as Kuratowski definition.\n",
    "\n",
    "Another encoding is similar to Kuratowski, but even shorter:\n",
    "\n",
    "$$\n",
    "\\langle x,y \\rangle_{short} = \\{x, \\{x, y\\}\\}\n",
    "$$\n",
    "\n",
    "It has certain minor drawbacks though: the proof that it satisfies the characteristic property requires axiom of regularity. Also, encoding of $\\langle 0, 1\\rangle$ tuple is exactly the same as number 2, represented in set theory (numbers can also be represented in set theory using certain encodings). "
   ]
  },
  {
   "cell_type": "markdown",
   "metadata": {},
   "source": [
    "The last encoding which I wanted to show is one which looks quite natural (I think) to a programmer. If we need to convert a set to a tuple, why not just add labels? Mark the first element with, say, 0 and the second with 1:\n",
    "\n",
    "$$\n",
    "\\langle x,y \\rangle_{prog} = \\{\\{0, x\\}, \\{1, y\\}\\}\n",
    "$$"
   ]
  },
  {
   "cell_type": "markdown",
   "metadata": {},
   "source": [
    "Here, we have to clarify what is 0 and 1. As I already mentioned above, natural numbers can also be encoded in set theory. I won't go into details about that (it would require one more post to properly cover it), but the gist is that in a classical von Neumann encoding, first natural numbers are represented as follows:\n",
    "\n",
    "\\begin{array}{lll}\n",
    "0 & &= \\emptyset \\\\\n",
    "1 &= \\{0\\} &= \\{\\emptyset\\} \\\\\n",
    "2 &= \\{0, 1\\} &= \\{\\emptyset, \\{\\emptyset\\} \\} \\\\\n",
    "3 &= \\{0, 1, 2\\} &= \\{ \\emptyset,  \\{\\emptyset\\}, \\{\\emptyset, \\{\\emptyset\\} \\} \\} \\\\\n",
    "\\end{array}"
   ]
  },
  {
   "cell_type": "markdown",
   "metadata": {},
   "source": [
    "We can use those definitions of 0 and 1, spend some time proving that this encoding satisfies the characteristic property (it does) and then we can use it as well as Kuratowski's."
   ]
  },
  {
   "cell_type": "markdown",
   "metadata": {},
   "source": [
    "When we say \"use the definition\" I mean that we just use it to show that ordered pairs can be built in set theory (in any of the ways proposed above, it does not actually matter much which way we choose), they satisfy required properties and then we are done with it, we can start using ordered pairs without any further references to their encodings, we abstracted it away. \n",
    "\n",
    "You may also notice that those encodings are somewhat unsatisfactory in a sense that they have some \"accidental\" properties, e.g. using Kuratowski encoding we have that $\\{x, y\\} \\in \\langle x, y \\rangle$ or that in short encoding $\\langle 0, 1 \\rangle_{short} = 2$. Those strange properties do not convey any intended mathematical meaning, they are just \"side effects\" in a way. One can say that truly beautiful objects should only have properties required of them and nothing extra, that is why one may find those encodings unappealing. There are other ways of dealing with this situation, for example ordered pairs could be introduced axiomatically, as a separate primitive. There is a tradeoff between number of axioms and primitives one has to work with and certain artificial properties. As Paul Halmos puts it:\n",
    "\n",
    "> The mathematician's choice is between having to remember a few more axioms and having to forget a few accidental facts; the choice is pretty clearly a matter of taste.\n"
   ]
  },
  {
   "cell_type": "markdown",
   "metadata": {},
   "source": [
    "**Exercise**: Say we want to encode ordered triples a-la Kuratowski: $\\langle x, y, z \\rangle = \\{ \\{x\\}, \\{x,y\\}, \\{x,y,z\\} \\}$\n",
    "Is that a valid encoding, having the characteristic property? If not, find a counterexample."
   ]
  },
  {
   "cell_type": "markdown",
   "metadata": {},
   "source": [
    "**References**:\n",
    "\n",
    "- Herbert Enderton \"Elements of Set Theory\"\n",
    "- Paul Halmos \"Naive Set Theory\"\n",
    "- Wikipedia: https://en.wikipedia.org/wiki/Ordered_pair"
   ]
  },
  {
   "cell_type": "markdown",
   "metadata": {},
   "source": []
  }
 ],
 "metadata": {
  "kernelspec": {
   "display_name": "Python 3",
   "language": "python",
   "name": "python3"
  },
  "language_info": {
   "codemirror_mode": {
    "name": "ipython",
    "version": 3
   },
   "file_extension": ".py",
   "mimetype": "text/x-python",
   "name": "python",
   "nbconvert_exporter": "python",
   "pygments_lexer": "ipython3",
   "version": "3.6.1"
  },
  "toc": {
   "nav_menu": {},
   "number_sections": true,
   "sideBar": true,
   "skip_h1_title": false,
   "title_cell": "Table of Contents",
   "title_sidebar": "Contents",
   "toc_cell": false,
   "toc_position": {},
   "toc_section_display": true,
   "toc_window_display": false
  }
 },
 "nbformat": 4,
 "nbformat_minor": 2
}
